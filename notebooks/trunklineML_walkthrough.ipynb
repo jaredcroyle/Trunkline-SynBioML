{
 "cells": [
  {
   "cell_type": "markdown",
   "metadata": {},
   "source": [
    "# Trunkline ML Pipeline Walkthrough\n",
    "This notebook provides a comprehensive walkthrough of the Trunkline ML Pipeline, explaining each component and how they work together."
   ]
  },
  {
   "cell_type": "markdown",
   "metadata": {},
   "source": [
    "## 1. Environment Setup\n",
    "First, let's set up our environment by importing necessary libraries and setting up paths."
   ]
  },
  {
   "cell_type": "code",
   "execution_count": 1,
   "metadata": {},
   "outputs": [],
   "source": [
    "import sys\n",
    "import os\n",
    "import numpy as np\n",
    "import pandas as pd\n",
    "import matplotlib.pyplot as plt\n",
    "import seaborn as sns\n",
    "from pathlib import Path\n",
    "\n",
    "# Add project root to path\n",
    "project_root = Path.cwd().parent\n",
    "sys.path.append(str(project_root))\n",
    "\n",
    "# Set plotting style\n",
    "sns.set_style('whitegrid')\n",
    "plt.rcParams['figure.figsize'] = (12, 6)"
   ]
  },
  {
   "cell_type": "markdown",
   "metadata": {},
   "source": [
    "## 2. Data Loading and Preprocessing\n",
    "The pipeline starts with loading and cleaning the data. Let's examine this process."
   ]
  },
  {
   "cell_type": "code",
   "execution_count": null,
   "metadata": {},
   "outputs": [
    {
     "ename": "ModuleNotFoundError",
     "evalue": "No module named 'src.data_preprocessing'",
     "output_type": "error",
     "traceback": [
      "\u001b[0;31m---------------------------------------------------------------------------\u001b[0m",
      "\u001b[0;31mModuleNotFoundError\u001b[0m                       Traceback (most recent call last)",
      "Cell \u001b[0;32mIn[2], line 1\u001b[0m\n\u001b[0;32m----> 1\u001b[0m \u001b[38;5;28;01mfrom\u001b[39;00m \u001b[38;5;21;01msrc\u001b[39;00m\u001b[38;5;21;01m.\u001b[39;00m\u001b[38;5;21;01mdata_preprocessing\u001b[39;00m \u001b[38;5;28;01mimport\u001b[39;00m load_and_clean_data, prepare_features\n\u001b[1;32m      3\u001b[0m \u001b[38;5;66;03m# Example data loading\u001b[39;00m\n\u001b[1;32m      4\u001b[0m \u001b[38;5;66;03m# data = load_and_clean_data('path/to/your/data.csv')\u001b[39;00m\n\u001b[1;32m      5\u001b[0m \u001b[38;5;66;03m# X, y, feature_names = prepare_features(data)\u001b[39;00m\n\u001b[1;32m      7\u001b[0m \u001b[38;5;28mprint\u001b[39m(\u001b[38;5;124m\"\u001b[39m\u001b[38;5;124mData loading and preprocessing functions are ready to use.\u001b[39m\u001b[38;5;124m\"\u001b[39m)\n",
      "\u001b[0;31mModuleNotFoundError\u001b[0m: No module named 'src.data_preprocessing'"
     ]
    }
   ],
   "source": [
    "from src.data_preprocessing import load_and_clean_data, prepare_features\n",
    "\n",
    "# Example data loading\n",
    "# data = load_and_clean_data('path/to/your/data.csv')\n",
    "# X, y, feature_names = prepare_features(data)\n",
    "\n",
    "print(\"Data loading and preprocessing functions are ready to use.\")\n",
    "print(\"Uncomment and modify the example above to load your dataset.\")"
   ]
  },
  {
   "cell_type": "markdown",
   "metadata": {},
   "source": [
    "## 3. Model Training\n",
    "The pipeline supports multiple model types. Here's how to train a model."
   ]
  },
  {
   "cell_type": "code",
   "execution_count": null,
   "metadata": {},
   "outputs": [],
   "source": [
    "from src.ml_pipeline import MLPipeline\n",
    "from sklearn.model_selection import train_test_split\n",
    "\n",
    "# Example model training\n",
    "def train_example_model(X, y, model_type='random_forest'):\n",
    "    # Split data\n",
    "    X_train, X_test, y_train, y_test = train_test_split(\n",
    "        X, y, test_size=0.2, random_state=42\n",
    "    )\n",
    "    \n",
    "    # Initialize and train pipeline\n",
    "    pipeline = MLPipeline()\n",
    "    pipeline.fit(\n",
    "        X_train,\n",
    "        y_train,\n",
    "        model_type=model_type,\n",
    "        cv=5\n",
    "    )\n",
    "    \n",
    "    return pipeline, X_test, y_test\n",
    "\n",
    "print(\"Model training function defined. Call train_example_model(X, y) to train a model.\")"
   ]
  },
  {
   "cell_type": "markdown",
   "metadata": {},
   "source": [
    "## 4. Model Evaluation\n",
    "After training, we can evaluate the model's performance using various metrics and visualizations."
   ]
  },
  {
   "cell_type": "code",
   "execution_count": null,
   "metadata": {},
   "outputs": [],
   "source": [
    "from src.model_evaluation import (\n",
    "    plot_learning_curve,\n",
    "    plot_feature_importance_rf,\n",
    "    plot_predicted_vs_true,\n",
    "    plot_residuals\n",
    ")\n",
    "\n",
    "def evaluate_model(pipeline, X_test, y_test):\n",
    "    # Make predictions\n",
    "    y_pred = pipeline.predict(X_test)\n",
    "    \n",
    "    # Generate evaluation plots\n",
    "    plot_predicted_vs_true(y_test, y_pred, model_name='Example Model')\n",
    "    plot_residuals(y_test, y_pred, model_name='Example Model')\n",
    "    \n",
    "    # Feature importance if available\n",
    "    if hasattr(pipeline.model, 'feature_importances_'):\n",
    "        plot_feature_importance_rf(\n",
    "            pipeline.model,\n",
    "            X_test.columns if hasattr(X_test, 'columns') else None,\n",
    "            model_name='Example Model'\n",
    "        )\n",
    "\n",
    "print(\"Evaluation functions are ready. Call evaluate_model(pipeline, X_test, y_test) to evaluate.\")"
   ]
  },
  {
   "cell_type": "markdown",
   "metadata": {},
   "source": [
    "## 5. Using the GUI\n",
    "The pipeline includes a user-friendly GUI for interactive use."
   ]
  },
  {
   "cell_type": "code",
   "execution_count": null,
   "metadata": {},
   "outputs": [],
   "source": [
    "# To run the GUI, uncomment and run the following command in your terminal:\n",
    "# python -m src.gui.main\n",
    "\n",
    "print(\"See the README for more information on using the GUI.\")"
   ]
  },
  {
   "cell_type": "markdown",
   "metadata": {},
   "source": [
    "## 6. Advanced Features\n",
    "The pipeline also includes advanced features like SHAP explanations and ensemble methods."
   ]
  },
  {
   "cell_type": "code",
   "execution_count": null,
   "metadata": {},
   "outputs": [],
   "source": [
    "from src.shap_visualization import shap_explainability\n",
    "from src.ensemble import WeightedEnsemble\n",
    "\n",
    "def explain_model(pipeline, X, feature_names=None):\n",
    "    # Generate SHAP explanations\n",
    "    shap_explainability(\n",
    "        pipeline.model,\n",
    "        X,\n",
    "        feature_names=feature_names,\n",
    "        model_name='Example Model'\n",
    "    )\n",
    "\n",
    "print(\"Advanced analysis functions are ready. See function docstrings for usage.\")"
   ]
  },
  {
   "cell_type": "markdown",
   "metadata": {},
   "source": [
    "## Next Steps\n",
    "1. Load your dataset\n",
    "2. Preprocess the data\n",
    "3. Train and evaluate models\n",
    "4. Use the GUI for interactive analysis\n",
    "5. Generate reports and visualizations"
   ]
  }
 ],
 "metadata": {
  "kernelspec": {
   "display_name": "base",
   "language": "python",
   "name": "python3"
  },
  "language_info": {
   "codemirror_mode": {
    "name": "ipython",
    "version": 3
   },
   "file_extension": ".py",
   "mimetype": "text/x-python",
   "name": "python",
   "nbconvert_exporter": "python",
   "pygments_lexer": "ipython3",
   "version": "3.11.5"
  }
 },
 "nbformat": 4,
 "nbformat_minor": 4
}
