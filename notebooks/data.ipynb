{
 "cells": [
  {
   "cell_type": "markdown",
   "id": "093f20cb",
   "metadata": {},
   "source": [
    "# Data Loading and Exploration"
   ]
  },
  {
   "cell_type": "markdown",
   "id": "e10daa1e",
   "metadata": {},
   "source": [
    "This notebook demonstrates loading and exploring the Limonene dataset."
   ]
  },
  {
   "cell_type": "code",
   "execution_count": 2,
   "id": "a7b1832e",
   "metadata": {},
   "outputs": [
    {
     "name": "stdout",
     "output_type": "stream",
     "text": [
      "Data loaded successfully!\n",
      "Columns in the dataset:\n",
      "Index(['Study ID', 'Study Name', 'Line Name', 'Line Description', 'Strain(s)',\n",
      "       'Media', 'Starting OD', 'Protocol Name', 'Assay ID', 'Assay Name',\n",
      "       'Type', 'Measurement Updated', 'X Units', 'Y Units', '24'],\n",
      "      dtype='object')\n",
      "First few rows:\n",
      "   Study ID Study Name Line Name Line Description Strain(s)   Media  \\\n",
      "0         1     Study1     Line1     Description1   Strain1  Media1   \n",
      "\n",
      "   Starting OD Protocol Name  Assay ID Assay Name   Type Measurement Updated  \\\n",
      "0          0.1     Protocol1         1     Assay1  Type1          2023-01-01   \n",
      "\n",
      "  X Units Y Units   24  \n",
      "0   OD600    mg/L  1.5  \n"
     ]
    }
   ],
   "source": [
    "import pandas as pd\n",
    "import os\n",
    "\n",
    "# Define the path to the data file\n",
    "data_path = os.path.join(\"..\", \"Trunkline\", \"data\", \"Limonene_data.csv\")\n",
    "\n",
    "# Load the data\n",
    "try:\n",
    "    df = pd.read_csv(data_path)\n",
    "    print(\"Data loaded successfully!\")\n",
    "    print(\"Columns in the dataset:\")\n",
    "    print(df.columns)\n",
    "    print(\"First few rows:\")\n",
    "    print(df.head())\n",
    "except FileNotFoundError:\n",
    "    print(f\"Error: Could not find the data file at {data_path}\")\n",
    "    print(\"Current working directory:\", os.getcwd())\n",
    "    print(\"Please make sure the file exists at the specified location.\")"
   ]
  }
 ],
 "metadata": {
  "kernelspec": {
   "display_name": "base",
   "language": "python",
   "name": "python3"
  },
  "language_info": {
   "codemirror_mode": {
    "name": "ipython",
    "version": 3
   },
   "file_extension": ".py",
   "mimetype": "text/x-python",
   "name": "python",
   "nbconvert_exporter": "python",
   "pygments_lexer": "ipython3",
   "version": "3.11.5"
  }
 },
 "nbformat": 4,
 "nbformat_minor": 5
}
