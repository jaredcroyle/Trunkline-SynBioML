{
 "cells": [
  {
   "cell_type": "markdown",
   "id": "093f20cb",
   "metadata": {},
   "source": [
    "# Data Loading and Exploration"
   ]
  },
  {
   "cell_type": "markdown",
   "id": "e10daa1e",
   "metadata": {},
   "source": [
    "This notebook demonstrates loading and exploring the Limonene dataset."
   ]
  },
  {
   "cell_type": "code",
   "execution_count": null,
   "id": "a7b1832e",
   "metadata": {},
   "outputs": [
    {
     "ename": "",
     "evalue": "",
     "output_type": "error",
     "traceback": [
      "\u001b[1;31mRunning cells with 'venv (Python 3.11.5)' requires the ipykernel package.\n",
      "\u001b[1;31mInstall 'ipykernel' into the Python environment. \n",
      "\u001b[1;31mCommand: '\"/Users/jcroyle/Documents/Personal Projects/TrunklineML/venv/bin/python\" -m pip install ipykernel -U --force-reinstall'"
     ]
    }
   ],
   "source": [
    "import pandas as pd\n",
    "import os\n",
    "\n",
    "# Define the path to the data file\n",
    "data_path = os.path.join(\"..\", \"Trunkline\", \"data\", \"Limonene_data.csv\")\n",
    "\n",
    "# Load the data\n",
    "try:\n",
    "    df = pd.read_csv(data_path)\n",
    "    print(\"Data loaded successfully!\")\n",
    "    print(\"\n",
    "Columns in the dataset:\")\n",
    "    print(df.columns)\n",
    "    print(\"\n",
    "First few rows:\")\n",
    "    print(df.head())\n",
    "except FileNotFoundError:\n",
    "    print(f\"Error: Could not find the data file at {data_path}\")\n",
    "    print(\"Current working directory:\", os.getcwd())\n",
    "    print(\"\n",
    "Please make sure the file exists at the specified location.\")"
   ]
  }
 ],
 "metadata": {
  "kernelspec": {
   "display_name": "venv",
   "language": "python",
   "name": "python3"
  },
  "language_info": {
   "name": "python",
   "version": "3.11.5"
  }
 },
 "nbformat": 4,
 "nbformat_minor": 5
}
